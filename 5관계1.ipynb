{
  "nbformat": 4,
  "nbformat_minor": 0,
  "metadata": {
    "colab": {
      "provenance": [],
      "authorship_tag": "ABX9TyM9jrTvw9tZGEMFWEQAMvd0",
      "include_colab_link": true
    },
    "kernelspec": {
      "name": "python3",
      "display_name": "Python 3"
    },
    "language_info": {
      "name": "python"
    }
  },
  "cells": [
    {
      "cell_type": "markdown",
      "metadata": {
        "id": "view-in-github",
        "colab_type": "text"
      },
      "source": [
        "<a href=\"https://colab.research.google.com/github/yoonho0818/2025mathlab/blob/main/5%EA%B4%80%EA%B3%841.ipynb\" target=\"_parent\"><img src=\"https://colab.research.google.com/assets/colab-badge.svg\" alt=\"Open In Colab\"/></a>"
      ]
    },
    {
      "cell_type": "code",
      "execution_count": null,
      "metadata": {
        "id": "11gV0DgrHNPF"
      },
      "outputs": [],
      "source": [
        "import numpy as np\n",
        "import networkx as nx\n",
        "import matplotlib.pyplot as plt"
      ]
    },
    {
      "cell_type": "code",
      "source": [
        "A={1,2,3}\n",
        "B={2,3,4}\n",
        "#A에서 B로 가는 이항 관계 R\n",
        "R={(1,2),(2,3),(3,2), (3,4)}\n",
        "\n",
        "print(\"관계 R:\", R)"
      ],
      "metadata": {
        "colab": {
          "base_uri": "https://localhost:8080/"
        },
        "id": "30Z2O_nuHlEV",
        "outputId": "d8055adc-5f2d-4103-d453-bff22e09cf48"
      },
      "execution_count": 1,
      "outputs": [
        {
          "output_type": "stream",
          "name": "stdout",
          "text": [
            "관계 R: {(2, 3), (3, 2), (1, 2), (3, 4)}\n"
          ]
        }
      ]
    },
    {
      "cell_type": "code",
      "source": [
        "import numpy as np\n",
        "import networkx as nx\n",
        "import matplotlib.pyplot as plt\n",
        "\n",
        "A_list=sorted(A)\n",
        "B_list=sorted(B)\n",
        "\n",
        "relation_matrix=np.zeros((len(A_list), len(B_list)), dtype=int)\n",
        "\n",
        "for i, a in enumerate(A_list):\n",
        "  for j, b in enumerate(B_list):\n",
        "    if (a,b) in R:\n",
        "      relation_matrix[i,j]=1\n",
        "\n",
        "print(\"관계 행렬 (rows: A, column: B):\")\n",
        "print(relation_matrix)"
      ],
      "metadata": {
        "colab": {
          "base_uri": "https://localhost:8080/"
        },
        "id": "LfUPMkNWH9eo",
        "outputId": "cea7d34a-2e38-4289-97b4-1b33680015b1"
      },
      "execution_count": 4,
      "outputs": [
        {
          "output_type": "stream",
          "name": "stdout",
          "text": [
            "관계 행렬 (rows: A, column: B):\n",
            "[[1 0 0]\n",
            " [0 1 0]\n",
            " [1 0 1]]\n"
          ]
        }
      ]
    },
    {
      "cell_type": "code",
      "source": [
        "#R: A->B\n",
        "#S: B->C\n",
        "C={'x', 'y'}\n",
        "S={(2,'x'), (3, 'y'), (4, 'x')}\n",
        "\n",
        "#합성 관계 R*S\n",
        "composed_relation=set()\n",
        "\n",
        "for (a,b1) in R:\n",
        "  for (b2,c) in S:\n",
        "    if b1==b2:\n",
        "      composed_relation.add((a,c))\n",
        "print(\"\\n합성 관계 R*S:\", composed_relation)"
      ],
      "metadata": {
        "colab": {
          "base_uri": "https://localhost:8080/"
        },
        "id": "icTfG3FRJHRn",
        "outputId": "b66a5c05-1ecc-4941-a3ea-930b7e2c9d38"
      },
      "execution_count": 5,
      "outputs": [
        {
          "output_type": "stream",
          "name": "stdout",
          "text": [
            "\n",
            "합성 관계 R*S: {(2, 'y'), (1, 'x'), (3, 'x')}\n"
          ]
        }
      ]
    }
  ]
}